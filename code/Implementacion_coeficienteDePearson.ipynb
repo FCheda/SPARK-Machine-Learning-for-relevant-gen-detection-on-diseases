{
 "cells": [
  {
   "cell_type": "markdown",
   "metadata": {},
   "source": [
    "La siguiente celda muestra la implementación del coeficiente de Pearson sobre RDDs, así como una función para chequear los valores seleccionados."
   ]
  },
  {
   "cell_type": "code",
   "execution_count": null,
   "metadata": {
    "collapsed": true
   },
   "outputs": [],
   "source": [
    "import pyspark\n",
    "from pyspark.mllib.linalg import SparseVector\n",
    "from pyspark.mllib.regression import LabeledPoint\n",
    "\n",
    "def pearsons(data):\n",
    "    dataCount=data.count()\n",
    "    meantuple=(data.map(lambda x: (x.label,x.features.toArray())).reduce(lambda x,y: (x[0]+y[0],x[1]+y[1])))\n",
    "    meantuple2=(meantuple[0]/dataCount,meantuple[1]/dataCount)          \n",
    "    standardDeviation=(data.map(lambda x: ((x.label-meantuple2[0])**2,(x.features.toArray()-meantuple2[1])**2)).reduce(lambda x,y: (x[0]+y[0],x[1]+y[1])))\n",
    "    standardDeviation2=((standardDeviation[0]/dataCount)**(0.5),(standardDeviation[1]/dataCount)**(0.5))\n",
    "    return (data.map(lambda x: (x.label-meantuple2[0])*(x.features.toArray()-meantuple2[1])/(standardDeviation2[0]*standardDeviation2[1])).reduce(lambda x,y:x+y))\n",
    "\n",
    "def checkpearsons(testRdd,data):\n",
    "    y=data.count()\n",
    "    x=testRdd.tolist()\n",
    "    t=[]\n",
    "    for i in range(len(x)):\n",
    "        t.append((x[i]/y,i))\n",
    "    t2=sorted(t)  \n",
    "    print(len(t))\n",
    "    print(t2[-4:])\n",
    "    print(t[-4:])\n"
   ]
  }
 ],
 "metadata": {
  "kernelspec": {
   "display_name": "Python 3",
   "language": "python",
   "name": "python3"
  },
  "language_info": {
   "codemirror_mode": {
    "name": "ipython",
    "version": 3
   },
   "file_extension": ".py",
   "mimetype": "text/x-python",
   "name": "python",
   "nbconvert_exporter": "python",
   "pygments_lexer": "ipython3",
   "version": "3.5.2"
  }
 },
 "nbformat": 4,
 "nbformat_minor": 1
}
