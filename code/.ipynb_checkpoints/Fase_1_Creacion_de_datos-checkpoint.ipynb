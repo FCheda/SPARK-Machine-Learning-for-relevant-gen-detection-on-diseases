{
 "cells": [
  {
   "cell_type": "markdown",
   "metadata": {},
   "source": [
    "La primera celda incluye las declaraciones de funciones auxiliares así como la función de generación de correspondientes a variables significativas para añadir al RDD base."
   ]
  },
  {
   "cell_type": "code",
   "execution_count": null,
   "metadata": {
    "collapsed": true
   },
   "outputs": [],
   "source": [
    "#Imports\n",
    "import pyspark.mllib.linalg.distributed as dist\n",
    "import random\n",
    "\n",
    "\n",
    "# Tuple for generation of breast cancer related data\n",
    "# its based on 3 values, gen1,gen2 and age\n",
    "#[1:-1] sets prob of cancer depending on gen1 and gen2 [gen1=1,gen2=1,gen1&gen2=1,gen1&gen2=0]\n",
    "#[-1] sets an age control, if age<[-1] cancer goes to 0\n",
    "probabilityTuple=(0.7,0.4,0.90,0.02,0.4)\n",
    "\n",
    "\n",
    "def strToInt(x):\n",
    "    newList=[]\n",
    "    for value in x:\n",
    "        newList.append(int(float(value.replace('[', ''))))   \n",
    "    return newList\n",
    "\n",
    "# Recives path to textfile(csv,zip,ect) containing 2 dimensional data  \n",
    "# Returns Rdd of (cord1,cord2,value), with cords going from 0 to max value \n",
    "#\n",
    "# Note: both \"replace\" values are for python2, not needed in python3\n",
    "# Note2: for reference, not used in this secuence\n",
    "def Csv_File_to_Coordinate_Rdd(filename):\n",
    "    return (sc\n",
    "    .textFile(filename)\n",
    "    .zipWithIndex()\n",
    "    .flatMap(lambda x: ([(x[1],j[0],float(j[1]))for j in enumerate(x[0].replace('[','0').replace(']','0').split(','))]))\n",
    "    .filter(lambda x: x[-1] != 0)  \n",
    ")\n",
    "  \n",
    "def List_to_Coordinate_Rdd(listName):\n",
    "    return (sc.parallelize(listName)\n",
    "          .zipWithIndex()\n",
    "          .flatMap(lambda x: ([(x[1],j[0],float(j[1]))for j in enumerate(x[0])]))\n",
    "          .filter(lambda x: x[-1] != 0))\n",
    "\n",
    "def Rdd_to_Coordinate_Rdd(rddName):\n",
    "    return (rddName.zipWithIndex()\n",
    "          .flatMap(lambda x: ([(x[1],j[0],float(j[1]))for j in enumerate(x[0])]))\n",
    "          .filter(lambda x: x[-1] != 0))  \n",
    "\n",
    "  \n",
    "#normal base balues tuple should have the size of the data you want to add\n",
    "#for example for 3 values (1,1,1)\n",
    "#recieves also a tuple of functions to calculate them\n",
    "#and how many values we want to add that must be lower than the CoordinateValueCount\n",
    "def getExtraCoordinateValues(probabilityTuple,numberAlteredPoints):\n",
    "    TempList=[]\n",
    "    for n in range(0,numberAlteredPoints):\n",
    "        T1=list(map(lambda x:x*random.random(),(1,1,1,1)))\n",
    "        T1[0]=int(T1[0]<0.05)#prob de esta alteracion\n",
    "        T1[1]=int(T1[1]<0.05)#prob de esta alteracion\n",
    "    \n",
    "        if T1[0]==1 and T1[1]==1:\n",
    "            T1[3]=int(T1[3]<probabilityTuple[2])\n",
    "        elif T1[0]==1:\n",
    "            T1[3]=int(T1[3]<probabilityTuple[0])\n",
    "        elif T1[1]==1: #T2==1 true\n",
    "            T1[3]=int(T1[3]<probabilityTuple[1])\n",
    "        else:\n",
    "            T1[3]=int(T1[3]<probabilityTuple[3])\n",
    "        if T1[2]<probabilityTuple[4]: \n",
    "            T1[3]=0  #low age limit \n",
    "        #modificacion para usar enteros\n",
    "            T1[2]=0\n",
    "        else:\n",
    "            T1[2]=1\n",
    "        TempList.append(T1)\n",
    "    return TempList  "
   ]
  },
  {
   "cell_type": "markdown",
   "metadata": {},
   "source": [
    "La siguiente celda incluye el código de generacion de RDDs aleatorios"
   ]
  },
  {
   "cell_type": "code",
   "execution_count": null,
   "metadata": {
    "collapsed": true
   },
   "outputs": [],
   "source": [
    "import random\n",
    "import numpy as np\n",
    "\n",
    "#size of data to generate\n",
    "numberOfElementsPerRow=1000\n",
    "numberOfRows=100000\n",
    "\n",
    "#%0s %1s\n",
    "distribution_0_1=[0.95,0.05]\n",
    "\n",
    "#Random value rdd generation\n",
    "dataMatrix=[]\n",
    "for i in range(0,numberOfRows):\n",
    "    dataMatrix.append([0])\n",
    "RandomRdd=sc.parallelize(dataMatrix).map(lambda x: np.random.choice([0,1], size=numberOfElementsPerRow, replace=True, p=distribution_0_1).tolist())\n",
    "#output in RandomRdd\n"
   ]
  },
  {
   "cell_type": "markdown",
   "metadata": {},
   "source": [
    "La siguiente casilla utiliza el Rdd aleatorio en RandomRdd, genera los nuevos valores para cada fila y escribe la salida en la ruta de destino."
   ]
  },
  {
   "cell_type": "code",
   "execution_count": null,
   "metadata": {
    "collapsed": true
   },
   "outputs": [],
   "source": [
    "import pyspark\n",
    "from pyspark.mllib.regression import LabeledPoint\n",
    "\n",
    "outputPath=\"D:/SparkFiles/100Kx1K0.05PIntAge\"\n",
    "\n",
    "size=len(RandomRdd.take(1)[0])+4\n",
    "Random_Coordinate_Rdd=(RandomRdd\n",
    "                       .map(lambda x: x+getExtraCoordinateValues(probabilityTuple,1)[0])\n",
    "                       .map(lambda x: LabeledPoint(x[-1],pyspark.mllib.linalg.SparseVector(size,range(size),x[:]))))\n",
    "                            \n",
    "pyspark.mllib.util.MLUtils.saveAsLibSVMFile(Random_Coordinate_Rdd,outputPath)"
   ]
  }
 ],
 "metadata": {
  "kernelspec": {
   "display_name": "Python 3",
   "language": "python",
   "name": "python3"
  },
  "language_info": {
   "codemirror_mode": {
    "name": "ipython",
    "version": 3
   },
   "file_extension": ".py",
   "mimetype": "text/x-python",
   "name": "python",
   "nbconvert_exporter": "python",
   "pygments_lexer": "ipython3",
   "version": "3.5.2"
  }
 },
 "nbformat": 4,
 "nbformat_minor": 1
}
